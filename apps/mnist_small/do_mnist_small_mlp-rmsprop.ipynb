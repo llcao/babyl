{
 "cells": [
  {
   "cell_type": "code",
   "execution_count": null,
   "metadata": {
    "collapsed": false
   },
   "outputs": [],
   "source": []
  },
  {
   "cell_type": "code",
   "execution_count": 1,
   "metadata": {
    "collapsed": false
   },
   "outputs": [],
   "source": [
    "import sys\n",
    "sys.path.append('../../')\n",
    "from layer_for_theano import *\n",
    "#print __layer_version__"
   ]
  },
  {
   "cell_type": "code",
   "execution_count": 2,
   "metadata": {
    "collapsed": false
   },
   "outputs": [
    {
     "name": "stdout",
     "output_type": "stream",
     "text": [
      "load dataset in 2.7 secs\n",
      "(50000L, 196L)\n"
     ]
    }
   ],
   "source": [
    "import cPickle\n",
    "import numpy as np\n",
    "import gzip\n",
    "\n",
    "import time\n",
    "\n",
    "class dataset_mnist_small:\n",
    "    def __init__(self):\n",
    "        if 0: # no requirement for gzip, but big file\n",
    "            f = open('mnist_14x14.pkl', 'rb')\n",
    "            train_set, valid_set, test_set = cPickle.load(f)\n",
    "            f.close()\n",
    "        else: # requiring gzip           \n",
    "            f = gzip.open('mnist_14x14.pkl.gz','rb')\n",
    "            train_set, valid_set, test_set = cPickle.load(f)\n",
    "            f.close()\n",
    "\n",
    "        self.xs_tr, ys_tr = train_set\n",
    "        self.xs_val, ys_val = valid_set\n",
    "        self.xs_te, ys_te = test_set\n",
    "\n",
    "        self.ys_tr =  ys_tr.astype(np.int32)\n",
    "        self.ys_val = ys_val.astype(np.int32)\n",
    "        self.ys_te =  ys_te.astype(np.int32)\n",
    "\n",
    "t0 = time.time()\n",
    "        \n",
    "ds =  dataset_mnist_small()  \n",
    "print 'load dataset in %.1f secs' % (time.time()-t0)\n",
    "\n",
    "print ds.xs_tr.shape\n"
   ]
  },
  {
   "cell_type": "code",
   "execution_count": 4,
   "metadata": {
    "collapsed": true
   },
   "outputs": [],
   "source": [
    "def get_update_rmsprop(loss, all_parameters, learning_rate):\n",
    "    #all_grads = [theano.grad(loss, param) for param in all_parameters]\n",
    "    all_grads = T.grad(loss, all_parameters)\n",
    "    updates = []\n",
    "    for p, g in zip(all_parameters, all_grads):\n",
    "        MeanSquare = theano.shared(p.get_value() * 0.)\n",
    "        nextMeanSquare = 0.9 * MeanSquare + (1 - 0.9) * g ** 2\n",
    "        g = g / T.sqrt(nextMeanSquare + 0.000001)\n",
    "        updates.append((MeanSquare, nextMeanSquare))\n",
    "        updates.append((p, p - learning_rate * g))\n",
    "    return updates"
   ]
  },
  {
   "cell_type": "code",
   "execution_count": 5,
   "metadata": {
    "collapsed": false
   },
   "outputs": [
    {
     "name": "stdout",
     "output_type": "stream",
     "text": [
      "nonlinear activation function =  Elemwise{tanh,no_inplace}\n",
      "before training, err= 0.91\n",
      "now training, cost =  2.36644118306\n",
      "after training, err= 0.77\n"
     ]
    }
   ],
   "source": [
    "from sgd_for_theano import *\n",
    "class mlp_rmsprop(tt_sgd_model):\n",
    "    def __init__(self):\n",
    "        #784\n",
    "        dim = 196\n",
    "        nc = 10\n",
    "\n",
    "        self.layers = []\n",
    "        self.layers += [InputLayer(dim)]\n",
    "\n",
    "        nonlinearfunc = T.tanh #T.nnet.sigmoid #rectify #rectify\n",
    "        print 'nonlinear activation function = ', nonlinearfunc\n",
    "        self.layers += [ HiddenLayer(self.layers[-1], n_out = 500,  activation = T.tanh)]\n",
    "        self.layers += [ HiddenLayer(self.layers[-1], n_out = nc,  activation = None)]\n",
    "        self.layers +=  [ SoftmaxLayer(self.layers[-1])]\n",
    "\n",
    "        self.target = T.ivector('target')\n",
    "        output_eval = self.layers[-1].output()\n",
    "        self.cost_eval = mcloss_negli(output_eval, self.target)\n",
    "        self.err_eval = mc_error(output_eval, self.target)\n",
    "        self.validate_model = theano.function([self.layers[0].input, self.target], self.err_eval)\n",
    "        self.cost_model = theano.function([self.layers[0].input,self. target], self.cost_eval)\n",
    "\n",
    "        output_tr = self.layers[-1].output(dropout_training=True)\n",
    "        self.cost_tr = mcloss_negli(output_eval, self.target)\n",
    "\n",
    "        learning_rate = 0.13\n",
    "        #all_para = all_parameters(self.layers[-1])\n",
    "        all_para = self.get_all_parameters()\n",
    "        #updates = gen_updates_sgd(self.cost_tr, all_para, learning_rate)\n",
    "        updates = get_update_rmsprop(self.cost_tr, all_para, learning_rate)\n",
    "        \n",
    "        \n",
    "        self.all_para = all_para        \n",
    "        self.train_model = theano.function([self.layers[0].input, self.target], self.cost_tr, updates=updates)\n",
    "\n",
    "model = mlp_rmsprop()\n",
    "\n",
    "if 1: #unit test\n",
    "    import sys\n",
    "    model._unit_test(ds.xs_tr[0:100], ds.ys_tr[0:100])\n",
    "    #sys.exit(0)"
   ]
  },
  {
   "cell_type": "code",
   "execution_count": 15,
   "metadata": {
    "collapsed": false
   },
   "outputs": [
    {
     "name": "stdout",
     "output_type": "stream",
     "text": [
      "(500L, 10L) (500L, 10L)\n",
      "(10L,) (10L,)\n",
      "(196L, 500L) (196L, 500L)\n",
      "(500L,) (500L,)\n"
     ]
    }
   ],
   "source": [
    "paras = model.all_para\n",
    "grad = T.grad(model.cost_tr, paras)\n",
    "\n",
    "for p, g in zip(paras,grad):\n",
    "    #p0 = p.eval({model.layers[0].input: ds.xs_tr[0:1]})\n",
    "    #g0 = g.eval({model.layers[0].input: ds.xs_tr[0:1]})\n",
    "    p0 = p.get_value()\n",
    "    g0 = g.eval({model.layers[0].input: ds.xs_tr[0:1], model.target: ds.ys_tr[0:1]})\n",
    "    print p0.shape, g0.shape"
   ]
  },
  {
   "cell_type": "code",
   "execution_count": 6,
   "metadata": {
    "collapsed": false
   },
   "outputs": [
    {
     "name": "stdout",
     "output_type": "stream",
     "text": [
      "\n",
      " epoch 1, minibatch 84/84, validation error 0.228922  training error 0.236409\n",
      "\n",
      " epoch 2, minibatch 84/84, validation error 0.324853  training error 0.320258\n",
      "\n",
      " epoch 3, minibatch 84/84, validation error 0.183137  training error 0.187123\n",
      "\n",
      " epoch 4, minibatch 84/84, validation error 0.170931  training error 0.172321\n",
      "\n",
      " epoch 5, minibatch 84/84, validation error 0.063775  training error 0.060397\n",
      "\n",
      " epoch 6, minibatch 84/84, validation error 0.091373  training error 0.092560\n",
      "\n",
      " epoch 7, minibatch 84/84, validation error 0.107549  training error 0.102004\n",
      "\n",
      " epoch 8, minibatch 84/84, validation error 0.060490  training error 0.054762\n",
      "\n",
      " epoch 9, minibatch 84/84, validation error 0.073137  training error 0.067381\n",
      "\n",
      " epoch 10, minibatch 84/84, validation error 0.062500  training error 0.054841\n"
     ]
    }
   ],
   "source": [
    "best_err, best_model,err_list_val, err_list_tr =  sgd_batch(model, ds.xs_tr, ds.ys_tr, ds.xs_te, ds.ys_te, batch_size=600, n_epochs=10)"
   ]
  },
  {
   "cell_type": "code",
   "execution_count": 7,
   "metadata": {
    "collapsed": false
   },
   "outputs": [
    {
     "data": {
      "image/png": "[encoded data removed]",
      "text/plain": [
       "<matplotlib.figure.Figure at 0x16e5e320>"
      ]
     },
     "metadata": {},
     "output_type": "display_data"
    }
   ],
   "source": [
    "import matplotlib.pyplot as plt\n",
    "%matplotlib inline\n",
    "plt.plot(err_list_tr,'bo-',label='err-tr')\n",
    "plt.plot(err_list_val,'r*-',label='err-te')\n",
    "plt.legend()\n",
    "plt.title('best validation err = ' + str(best_err))\n",
    "plt.show()"
   ]
  },
  {
   "cell_type": "code",
   "execution_count": null,
   "metadata": {
    "collapsed": false
   },
   "outputs": [],
   "source": []
  },
  {
   "cell_type": "code",
   "execution_count": null,
   "metadata": {
    "collapsed": true
   },
   "outputs": [],
   "source": []
  }
 ],
 "metadata": {
  "kernelspec": {
   "display_name": "Python 2",
   "language": "python",
   "name": "python2"
  },
  "language_info": {
   "codemirror_mode": {
    "name": "ipython",
    "version": 2
   },
   "file_extension": ".py",
   "mimetype": "text/x-python",
   "name": "python",
   "nbconvert_exporter": "python",
   "pygments_lexer": "ipython2",
   "version": "2.7.9"
  }
 },
 "nbformat": 4,
 "nbformat_minor": 0
}
